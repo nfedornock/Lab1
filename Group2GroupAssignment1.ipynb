{
  "nbformat": 4,
  "nbformat_minor": 0,
  "metadata": {
    "colab": {
      "name": "Group2GroupAssignment1.ipynb",
      "provenance": [],
      "collapsed_sections": [],
      "include_colab_link": true
    },
    "kernelspec": {
      "name": "python3",
      "display_name": "Python 3"
    }
  },
  "cells": [
    {
      "cell_type": "markdown",
      "metadata": {
        "id": "view-in-github",
        "colab_type": "text"
      },
      "source": [
        "<a href=\"https://colab.research.google.com/github/nfedornock/Lab1/blob/master/Group2GroupAssignment1.ipynb\" target=\"_parent\"><img src=\"https://colab.research.google.com/assets/colab-badge.svg\" alt=\"Open In Colab\"/></a>"
      ]
    },
    {
      "cell_type": "markdown",
      "metadata": {
        "id": "UblhAIGuGF27",
        "colab_type": "text"
      },
      "source": [
        "\n",
        "\n",
        "```\n",
        "# This is formatted as code\n",
        "```\n",
        "\n",
        "\n"
      ]
    },
    {
      "cell_type": "markdown",
      "metadata": {
        "id": "RlR0_Ol4GW3b",
        "colab_type": "text"
      },
      "source": [
        "### what is your idea?"
      ]
    },
    {
      "cell_type": "markdown",
      "metadata": {
        "id": "QzNjZqeVgE5C",
        "colab_type": "text"
      },
      "source": [
        "#Quarantine Deliveries"
      ]
    },
    {
      "cell_type": "markdown",
      "metadata": {
        "id": "45Q0PBrIGiIg",
        "colab_type": "text"
      },
      "source": [
        "### what makes it unique?"
      ]
    },
    {
      "cell_type": "markdown",
      "metadata": {
        "id": "8WOfTAuqGjoc",
        "colab_type": "text"
      },
      "source": [
        "-- This company is unique, because we will have our drivers deliver anything that can be found at a store, and bring it to our customers. Since people do not want to leave their houses to shop during the pandemic, whatever they need will be brought to them, without having to leave their houses. Other companies only deliver food, but we can deliver anything that can be found at a store in a timely manner."
      ]
    },
    {
      "cell_type": "markdown",
      "metadata": {
        "id": "dVrktWdXGl19",
        "colab_type": "text"
      },
      "source": [
        "### is this a brand-new product or business, or are you borrowing from another business?"
      ]
    },
    {
      "cell_type": "markdown",
      "metadata": {
        "id": "MmGY0leUGnaN",
        "colab_type": "text"
      },
      "source": [
        "-- This product is brand-new in the sense that there is nothing else exactly like it right now. However, we did take the idea of Uber Eats and other delivery companies, and we made it so that anything could be delivered at the customer's request, not just food."
      ]
    },
    {
      "cell_type": "markdown",
      "metadata": {
        "id": "k3oJzVDPGnws",
        "colab_type": "text"
      },
      "source": [
        "### describe a typical business interaction or a day at your business."
      ]
    },
    {
      "cell_type": "markdown",
      "metadata": {
        "id": "GeEKl-lUG1x5",
        "colab_type": "text"
      },
      "source": [
        "The customer uses the app to find the store they want to get their food, groceries, or other necessities from.  Then a driver takes their request, and then goes to a store where they can find the item. The customer's payment goes through, and the driver has money loaded onto a card for them to use when they pick up the order. Then the driver delivers the items to the person's house and leaves it outside for them."
      ]
    },
    {
      "cell_type": "markdown",
      "metadata": {
        "id": "iUFoC5BuGpID",
        "colab_type": "text"
      },
      "source": [
        "### list your 5 entities/tables and for each, provide details about what data will be stored in the entities/tables."
      ]
    },
    {
      "cell_type": "markdown",
      "metadata": {
        "id": "AiZXrfSMGqZm",
        "colab_type": "text"
      },
      "source": [
        "1. Customer\n",
        "\n",
        "The attributes for customer are name, address, and phone number.\n",
        "\n",
        "2. Driver\n",
        "\n",
        "The attributes for driver are name, phone number, and car\n",
        "\n",
        "3. Items\n",
        "\n",
        "The attributes for items are cost, store, and quantity.\n",
        "\n",
        "4. Trip\n",
        "\n",
        "The attributes for trip are distance, time, and gas.\n",
        "\n",
        "5. Payments\n",
        "\n",
        "The attributes for payments are type, card number, and tips."
      ]
    },
    {
      "cell_type": "markdown",
      "metadata": {
        "id": "h2mJWTewHLSn",
        "colab_type": "text"
      },
      "source": [
        "Draw IO Entity Relationship Diagram \n",
        "\n",
        "![quarantinedeliverydiagram](https://raw.githubusercontent.com/matthewg1234/Practice/master/Quarantine%20Delivery%20.png)"
      ]
    },
    {
      "cell_type": "markdown",
      "metadata": {
        "id": "WFQXwieoHiCe",
        "colab_type": "text"
      },
      "source": [
        "### provide a goal for your project "
      ]
    },
    {
      "cell_type": "markdown",
      "metadata": {
        "id": "cKmoiVHrHnHF",
        "colab_type": "text"
      },
      "source": [
        "The goal for our project is to create a business, in our case Quarantine Deliveries, that will consist of a database with five entities. We want to have this business, so that we can learn more about how databases can be applied to real world experiences. This will help us learn how to apply what we learned in class to our working lives."
      ]
    }
  ]
}