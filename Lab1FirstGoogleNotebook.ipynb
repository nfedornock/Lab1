{
  "nbformat": 4,
  "nbformat_minor": 0,
  "metadata": {
    "colab": {
      "name": "Lab1FirstGoogleNotebook.ipynb",
      "provenance": [],
      "authorship_tag": "ABX9TyMKWPvFv9qrPS1mXlwolw+E",
      "include_colab_link": true
    },
    "kernelspec": {
      "name": "python3",
      "display_name": "Python 3"
    }
  },
  "cells": [
    {
      "cell_type": "markdown",
      "metadata": {
        "id": "view-in-github",
        "colab_type": "text"
      },
      "source": [
        "<a href=\"https://colab.research.google.com/github/nfedornock/Lab1/blob/master/Lab1FirstGoogleNotebook.ipynb\" target=\"_parent\"><img src=\"https://colab.research.google.com/assets/colab-badge.svg\" alt=\"Open In Colab\"/></a>"
      ]
    },
    {
      "cell_type": "markdown",
      "metadata": {
        "id": "dhIt3vDqHIre",
        "colab_type": "text"
      },
      "source": [
        "### Do You Like Using Jupyter Notebooks?"
      ]
    },
    {
      "cell_type": "markdown",
      "metadata": {
        "id": "WgPwRmy_HR-u",
        "colab_type": "text"
      },
      "source": [
        "I think that Jupyter Notebooks is interesting idea and I have never experienced anything quite like it.  I am looking forward to using it and seeing what kind of things are possible with it"
      ]
    },
    {
      "cell_type": "markdown",
      "metadata": {
        "id": "u0kNpsl4HdcA",
        "colab_type": "text"
      },
      "source": [
        "###What do you want to learn more about in Jupyter Notebooks?"
      ]
    },
    {
      "cell_type": "markdown",
      "metadata": {
        "id": "OSaPyrzEHiN3",
        "colab_type": "text"
      },
      "source": [
        "I am interested in the coding and text aspect and how they interact with what we are going to be doing.  I have some experience with excel and using functions that way to calculate different statistics and making formulas to calcuate other things so I am expecting it to have a similar concept.  However, I am really looking forward to how it will be applied."
      ]
    },
    {
      "cell_type": "markdown",
      "metadata": {
        "id": "qSsBX_HBH4Ln",
        "colab_type": "text"
      },
      "source": [
        "![abstractart](https://raw.githubusercontent.com/nfedornock/Lab1/master/images/abstractart.jpg) Just found a cool piece of art online"
      ]
    }
  ]
}